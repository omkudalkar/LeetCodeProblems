{
 "cells": [
  {
   "cell_type": "code",
   "execution_count": 35,
   "id": "8eacc89d",
   "metadata": {},
   "outputs": [
    {
     "data": {
      "text/plain": [
       "'\\nPROBLEM STATEMENT - \\n\\nImplement strStr().\\n\\nGiven two strings needle and haystack, return the index of the first occurrence of needle in haystack, or -1 if needle is not part of haystack.\\n\\nClarification:\\n\\nWhat should we return when needle is an empty string? This is a great question to ask during an interview.\\n\\nFor the purpose of this problem, we will return 0 when needle is an empty string. This is consistent to C\\'s strstr() and Java\\'s indexOf().\\n\\n \\n\\nExample 1:\\n\\nInput: haystack = \"hello\", needle = \"ll\"\\nOutput: 2\\nExample 2:\\n\\nInput: haystack = \"aaaaa\", needle = \"bba\"\\nOutput: -1\\n \\n\\nConstraints:\\n\\n1 <= haystack.length, needle.length <= 104\\nhaystack and needle consist of only lowercase English characters.\\n\\n'"
      ]
     },
     "execution_count": 35,
     "metadata": {},
     "output_type": "execute_result"
    }
   ],
   "source": [
    "\"\"\"\n",
    "PROBLEM STATEMENT - \n",
    "\n",
    "Implement strStr().\n",
    "\n",
    "Given two strings needle and haystack, return the index of the first occurrence of needle in haystack, or -1 if needle is not part of haystack.\n",
    "\n",
    "Clarification:\n",
    "\n",
    "What should we return when needle is an empty string? This is a great question to ask during an interview.\n",
    "\n",
    "For the purpose of this problem, we will return 0 when needle is an empty string. This is consistent to C's strstr() and Java's indexOf().\n",
    "\n",
    " \n",
    "\n",
    "Example 1:\n",
    "\n",
    "Input: haystack = \"hello\", needle = \"ll\"\n",
    "Output: 2\n",
    "Example 2:\n",
    "\n",
    "Input: haystack = \"aaaaa\", needle = \"bba\"\n",
    "Output: -1\n",
    " \n",
    "\n",
    "Constraints:\n",
    "\n",
    "1 <= haystack.length, needle.length <= 104\n",
    "haystack and needle consist of only lowercase English characters.\n",
    "\n",
    "\"\"\""
   ]
  },
  {
   "cell_type": "code",
   "execution_count": 36,
   "id": "9ddc1549",
   "metadata": {},
   "outputs": [],
   "source": [
    "def strStr(needle, haystack):\n",
    "    if(needle not in haystack):\n",
    "        #if needle not in haystack to begin with, then return -1\n",
    "        return -1\n",
    "    else:\n",
    "        #only if it is present, do we start looking for the array.\n",
    "        needle_len = len(needle)\n",
    "        \n",
    "        #loop through every letter in haystack to find the first occurence of needle starting. \n",
    "        for i in range(len(haystack)):\n",
    "            \n",
    "            if (needle[0] == haystack[i]):\n",
    "                #then check that the next needle_len amount of letters form the same string as needle. \n",
    "                if(haystack[i:i+needle_len] == needle):\n",
    "                    #return i when found. \n",
    "                    return i\n",
    "  \n",
    "        "
   ]
  },
  {
   "cell_type": "code",
   "execution_count": 37,
   "id": "2817ec44",
   "metadata": {},
   "outputs": [
    {
     "data": {
      "text/plain": [
       "2"
      ]
     },
     "execution_count": 37,
     "metadata": {},
     "output_type": "execute_result"
    }
   ],
   "source": [
    "haystack = \"hello\"\n",
    "needle = \"ll\"\n",
    "strStr(needle, haystack)\n"
   ]
  }
 ],
 "metadata": {
  "kernelspec": {
   "display_name": "Python 3",
   "language": "python",
   "name": "python3"
  },
  "language_info": {
   "codemirror_mode": {
    "name": "ipython",
    "version": 3
   },
   "file_extension": ".py",
   "mimetype": "text/x-python",
   "name": "python",
   "nbconvert_exporter": "python",
   "pygments_lexer": "ipython3",
   "version": "3.8.8"
  }
 },
 "nbformat": 4,
 "nbformat_minor": 5
}
