{
 "cells": [
  {
   "cell_type": "code",
   "execution_count": 19,
   "id": "c17b87bd",
   "metadata": {},
   "outputs": [
    {
     "data": {
      "text/plain": [
       "'\\nPROBLEM STATEMENT - \\n\\nGiven an integer x, return true if x is palindrome integer.\\n\\nAn integer is a palindrome when it reads the same backward as forward.\\n\\nFor example, 121 is a palindrome while 123 is not.\\n'"
      ]
     },
     "execution_count": 19,
     "metadata": {},
     "output_type": "execute_result"
    }
   ],
   "source": [
    "\"\"\"\n",
    "PROBLEM STATEMENT - \n",
    "\n",
    "Given an integer x, return true if x is palindrome integer.\n",
    "\n",
    "An integer is a palindrome when it reads the same backward as forward.\n",
    "\n",
    "For example, 121 is a palindrome while 123 is not.\n",
    "\"\"\""
   ]
  },
  {
   "cell_type": "code",
   "execution_count": 20,
   "id": "c1611b43",
   "metadata": {},
   "outputs": [],
   "source": [
    "\"\"\"\n",
    "In this solution, we simply make the number a string, and then also make an array where the reverse digits\n",
    "are stored. \n",
    "We then loop over the reverse array and compare every element with the string of the number. \n",
    "If every number is the same, then Palindrome. \n",
    "As soon as we come across a difference, we return False. \n",
    "\"\"\"\n",
    "\n",
    "def isPalindrome(x):\n",
    "    strx = str(x)\n",
    "    revarr = []\n",
    "    \n",
    "    j=-1\n",
    "    for i in strx:\n",
    "        revarr.append(strx[j])\n",
    "        j=j-1\n",
    "    \n",
    "    for i in range(len(revarr)):\n",
    "        if (revarr[i]!=strx[i]):\n",
    "            #return False as soon as difference is Found. \n",
    "                   return False\n",
    "            \n",
    "    #if entire array looped and False not returned, then return True. \n",
    "    return True\n",
    "        \n",
    "        \n"
   ]
  },
  {
   "cell_type": "code",
   "execution_count": 21,
   "id": "7ddb461a",
   "metadata": {},
   "outputs": [
    {
     "data": {
      "text/plain": [
       "False"
      ]
     },
     "execution_count": 21,
     "metadata": {},
     "output_type": "execute_result"
    }
   ],
   "source": [
    "isPalindrome(12131)"
   ]
  },
  {
   "cell_type": "code",
   "execution_count": null,
   "id": "0d2083b4",
   "metadata": {},
   "outputs": [],
   "source": []
  },
  {
   "cell_type": "code",
   "execution_count": null,
   "id": "12e1052c",
   "metadata": {},
   "outputs": [],
   "source": []
  }
 ],
 "metadata": {
  "kernelspec": {
   "display_name": "Python 3",
   "language": "python",
   "name": "python3"
  },
  "language_info": {
   "codemirror_mode": {
    "name": "ipython",
    "version": 3
   },
   "file_extension": ".py",
   "mimetype": "text/x-python",
   "name": "python",
   "nbconvert_exporter": "python",
   "pygments_lexer": "ipython3",
   "version": "3.8.8"
  }
 },
 "nbformat": 4,
 "nbformat_minor": 5
}
